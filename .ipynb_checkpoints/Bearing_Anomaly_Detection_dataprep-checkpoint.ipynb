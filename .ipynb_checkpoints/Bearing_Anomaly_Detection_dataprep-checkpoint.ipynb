{
 "cells": [
  {
   "cell_type": "code",
   "execution_count": 1,
   "metadata": {
    "collapsed": true
   },
   "outputs": [],
   "source": [
    "import numpy as np\n",
    "import pandas as pd\n",
    "import scipy.io as sio\n",
    "import os"
   ]
  },
  {
   "cell_type": "code",
   "execution_count": 2,
   "metadata": {},
   "outputs": [
    {
     "name": "stdout",
     "output_type": "stream",
     "text": [
      "--2019-06-13 04:53:17--  http://csegroups.case.edu/sites/default/files/bearingdatacenter/files/Datafiles/97.mat\n",
      "Resolving csegroups.case.edu (csegroups.case.edu)... 129.22.25.84\n",
      "Connecting to csegroups.case.edu (csegroups.case.edu)|129.22.25.84|:80... connected.\n",
      "HTTP request sent, awaiting response... 200 OK\n",
      "Length: 3903344 (3.7M)\n",
      "Saving to: ‘97.mat’\n",
      "\n",
      "100%[======================================>] 3,903,344   12.0MB/s   in 0.3s   \n",
      "\n",
      "2019-06-13 04:53:18 (12.0 MB/s) - ‘97.mat’ saved [3903344/3903344]\n",
      "\n",
      "--2019-06-13 04:53:18--  http://csegroups.case.edu/sites/default/files/bearingdatacenter/files/Datafiles/98.mat\n",
      "Resolving csegroups.case.edu (csegroups.case.edu)... 129.22.25.84\n",
      "Connecting to csegroups.case.edu (csegroups.case.edu)|129.22.25.84|:80... connected.\n",
      "HTTP request sent, awaiting response... 200 OK\n",
      "Length: 7742720 (7.4M)\n",
      "Saving to: ‘98.mat’\n",
      "\n",
      "100%[======================================>] 7,742,720   15.9MB/s   in 0.5s   \n",
      "\n",
      "2019-06-13 04:53:18 (15.9 MB/s) - ‘98.mat’ saved [7742720/7742720]\n",
      "\n",
      "--2019-06-13 04:53:18--  http://csegroups.case.edu/sites/default/files/bearingdatacenter/files/Datafiles/99.mat\n",
      "Resolving csegroups.case.edu (csegroups.case.edu)... 129.22.25.84\n",
      "Connecting to csegroups.case.edu (csegroups.case.edu)|129.22.25.84|:80... connected.\n",
      "HTTP request sent, awaiting response... 200 OK\n",
      "Length: 15503928 (15M)\n",
      "Saving to: ‘99.mat’\n",
      "\n",
      "100%[======================================>] 15,503,928  12.6MB/s   in 1.2s   \n",
      "\n",
      "2019-06-13 04:53:21 (12.6 MB/s) - ‘99.mat’ saved [15503928/15503928]\n",
      "\n",
      "--2019-06-13 04:53:21--  http://csegroups.case.edu/sites/default/files/bearingdatacenter/files/Datafiles/100.mat\n",
      "Resolving csegroups.case.edu (csegroups.case.edu)... 129.22.25.84\n",
      "Connecting to csegroups.case.edu (csegroups.case.edu)|129.22.25.84|:80... connected.\n",
      "HTTP request sent, awaiting response... 200 OK\n",
      "Length: 7770624 (7.4M)\n",
      "Saving to: ‘100.mat’\n",
      "\n",
      "100%[======================================>] 7,770,624   7.91MB/s   in 0.9s   \n",
      "\n",
      "2019-06-13 04:53:22 (7.91 MB/s) - ‘100.mat’ saved [7770624/7770624]\n",
      "\n"
     ]
    }
   ],
   "source": [
    "!wget http://csegroups.case.edu/sites/default/files/bearingdatacenter/files/Datafiles/97.mat\n",
    "!wget http://csegroups.case.edu/sites/default/files/bearingdatacenter/files/Datafiles/98.mat\n",
    "!wget http://csegroups.case.edu/sites/default/files/bearingdatacenter/files/Datafiles/99.mat\n",
    "!wget http://csegroups.case.edu/sites/default/files/bearingdatacenter/files/Datafiles/100.mat"
   ]
  },
  {
   "cell_type": "code",
   "execution_count": 3,
   "metadata": {},
   "outputs": [
    {
     "name": "stdout",
     "output_type": "stream",
     "text": [
      "mkdir: cannot create directory ‘cwr_healthy’: File exists\r\n"
     ]
    }
   ],
   "source": [
    "!mkdir  cwr_healthy"
   ]
  },
  {
   "cell_type": "code",
   "execution_count": 4,
   "metadata": {
    "collapsed": true
   },
   "outputs": [],
   "source": [
    "!mv *.mat cwr_healthy/"
   ]
  },
  {
   "cell_type": "code",
   "execution_count": 5,
   "metadata": {},
   "outputs": [
    {
     "name": "stdout",
     "output_type": "stream",
     "text": [
      "100.mat  97.mat  98.mat  99.mat\r\n"
     ]
    }
   ],
   "source": [
    "!ls cwr_healthy"
   ]
  },
  {
   "cell_type": "code",
   "execution_count": 6,
   "metadata": {},
   "outputs": [
    {
     "name": "stdout",
     "output_type": "stream",
     "text": [
      "[[ 0.19292182]\n",
      " [ 0.16436364]\n",
      " [ 0.09081091]\n",
      " ..., \n",
      " [ 0.10930182]\n",
      " [ 0.05218545]\n",
      " [-0.00452   ]]\n"
     ]
    }
   ],
   "source": [
    "content=sio.loadmat(\"cwr_healthy/100.mat\")\n",
    "print(content['X100_FE_time'])"
   ]
  },
  {
   "cell_type": "code",
   "execution_count": 7,
   "metadata": {
    "collapsed": true
   },
   "outputs": [],
   "source": [
    "def read_folder(folder):\n",
    "    data = 'dummy'\n",
    "    skip = False\n",
    "    for file in os.listdir(folder):\n",
    "        file_id = file[:-4]\n",
    "        mat_file_dict = sio.loadmat(folder+file)\n",
    "        del data\n",
    "        for key, value in mat_file_dict.items():\n",
    "            if 'DE_time' in key or 'FE_time' in key:\n",
    "                a = np.array(mat_file_dict[key])\n",
    "                try:\n",
    "                    data\n",
    "                except NameError:\n",
    "                    data = a\n",
    "                else:\n",
    "                    if (data.shape[0] != a.shape[0]):\n",
    "                        print('skipping ' + file_id)\n",
    "                        skip = True\n",
    "                        continue\n",
    "                    data = np.hstack((data,a))\n",
    "        if skip:\n",
    "            skip=False\n",
    "            continue\n",
    "        id = np.repeat(file_id,data.shape[0])\n",
    "        id.shape = (id.shape[0],1)\n",
    "        data = np.hstack((id,data))\n",
    "        if data.shape[1] == 2:\n",
    "            zeros = np.repeat(float(0),data.shape[0])\n",
    "            zeros.shape =(data.shape[0],1)\n",
    "            data = np.hstack((data,zeros))\n",
    "        try:\n",
    "            result\n",
    "        except NameError:\n",
    "            result = data\n",
    "        else:\n",
    "            result = np.vstack((result,data))\n",
    "    return result"
   ]
  },
  {
   "cell_type": "code",
   "execution_count": 8,
   "metadata": {},
   "outputs": [
    {
     "name": "stdout",
     "output_type": "stream",
     "text": [
      "skipping 99\n",
      "skipping 99\n"
     ]
    }
   ],
   "source": [
    "result_healthy = read_folder('./cwr_healthy/')"
   ]
  },
  {
   "cell_type": "code",
   "execution_count": 9,
   "metadata": {
    "collapsed": true
   },
   "outputs": [],
   "source": [
    "pdf = pd.DataFrame(result_healthy)"
   ]
  },
  {
   "cell_type": "code",
   "execution_count": 10,
   "metadata": {},
   "outputs": [
    {
     "data": {
      "text/html": [
       "<div>\n",
       "<style scoped>\n",
       "    .dataframe tbody tr th:only-of-type {\n",
       "        vertical-align: middle;\n",
       "    }\n",
       "\n",
       "    .dataframe tbody tr th {\n",
       "        vertical-align: top;\n",
       "    }\n",
       "\n",
       "    .dataframe thead th {\n",
       "        text-align: right;\n",
       "    }\n",
       "</style>\n",
       "<table border=\"1\" class=\"dataframe\">\n",
       "  <thead>\n",
       "    <tr style=\"text-align: right;\">\n",
       "      <th></th>\n",
       "      <th>0</th>\n",
       "      <th>1</th>\n",
       "      <th>2</th>\n",
       "    </tr>\n",
       "  </thead>\n",
       "  <tbody>\n",
       "    <tr>\n",
       "      <th>0</th>\n",
       "      <td>98</td>\n",
       "      <td>0.023216363636363632</td>\n",
       "      <td>0.046104</td>\n",
       "    </tr>\n",
       "    <tr>\n",
       "      <th>1</th>\n",
       "      <td>98</td>\n",
       "      <td>0.08115454545454545</td>\n",
       "      <td>-0.03713353846153846</td>\n",
       "    </tr>\n",
       "    <tr>\n",
       "      <th>2</th>\n",
       "      <td>98</td>\n",
       "      <td>0.09533090909090909</td>\n",
       "      <td>-0.08949599999999999</td>\n",
       "    </tr>\n",
       "    <tr>\n",
       "      <th>3</th>\n",
       "      <td>98</td>\n",
       "      <td>0.09101636363636363</td>\n",
       "      <td>-0.08490646153846154</td>\n",
       "    </tr>\n",
       "    <tr>\n",
       "      <th>4</th>\n",
       "      <td>98</td>\n",
       "      <td>0.038625454545454546</td>\n",
       "      <td>-0.03859384615384615</td>\n",
       "    </tr>\n",
       "  </tbody>\n",
       "</table>\n",
       "</div>"
      ],
      "text/plain": [
       "    0                     1                     2\n",
       "0  98  0.023216363636363632              0.046104\n",
       "1  98   0.08115454545454545  -0.03713353846153846\n",
       "2  98   0.09533090909090909  -0.08949599999999999\n",
       "3  98   0.09101636363636363  -0.08490646153846154\n",
       "4  98  0.038625454545454546  -0.03859384615384615"
      ]
     },
     "execution_count": 10,
     "metadata": {},
     "output_type": "execute_result"
    }
   ],
   "source": [
    "pdf.head()"
   ]
  },
  {
   "cell_type": "code",
   "execution_count": 11,
   "metadata": {
    "collapsed": true
   },
   "outputs": [],
   "source": [
    "pdf.to_csv('result_healthy_pandas.csv', header=False, index=True)"
   ]
  },
  {
   "cell_type": "code",
   "execution_count": 12,
   "metadata": {},
   "outputs": [
    {
     "name": "stdout",
     "output_type": "stream",
     "text": [
      "0,98,0.023216363636363632,0.046104\r\n",
      "1,98,0.08115454545454545,-0.03713353846153846\r\n",
      "2,98,0.09533090909090909,-0.08949599999999999\r\n",
      "3,98,0.09101636363636363,-0.08490646153846154\r\n",
      "4,98,0.038625454545454546,-0.03859384615384615\r\n",
      "5,98,0.027120000000000002,0.02545107692307692\r\n",
      "6,98,0.05013090909090909,0.040679999999999994\r\n",
      "7,98,0.045816363636363634,0.042557538461538466\r\n",
      "8,98,0.014176363636363636,0.038176615384615385\r\n",
      "9,98,-0.03780363636363636,0.04401784615384615\r\n"
     ]
    }
   ],
   "source": [
    "!head result_healthy_pandas.csv"
   ]
  },
  {
   "cell_type": "code",
   "execution_count": 13,
   "metadata": {},
   "outputs": [
    {
     "name": "stdout",
     "output_type": "stream",
     "text": [
      "--2019-06-13 04:53:50--  http://csegroups.case.edu/sites/default/files/bearingdatacenter/files/Datafiles/105.mat\n",
      "Resolving csegroups.case.edu (csegroups.case.edu)... 129.22.25.84\n",
      "Connecting to csegroups.case.edu (csegroups.case.edu)|129.22.25.84|:80... connected.\n",
      "HTTP request sent, awaiting response... 200 OK\n",
      "Length: 2910768 (2.8M)\n",
      "Saving to: ‘105.mat’\n",
      "\n",
      "100%[======================================>] 2,910,768   5.01MB/s   in 0.6s   \n",
      "\n",
      "2019-06-13 04:53:51 (5.01 MB/s) - ‘105.mat’ saved [2910768/2910768]\n",
      "\n",
      "--2019-06-13 04:53:51--  http://csegroups.case.edu/sites/default/files/bearingdatacenter/files/Datafiles/106.mat\n",
      "Resolving csegroups.case.edu (csegroups.case.edu)... 129.22.25.84\n",
      "Connecting to csegroups.case.edu (csegroups.case.edu)|129.22.25.84|:80... connected.\n",
      "HTTP request sent, awaiting response... 200 OK\n",
      "Length: 2928192 (2.8M)\n",
      "Saving to: ‘106.mat’\n",
      "\n",
      "100%[======================================>] 2,928,192   6.07MB/s   in 0.5s   \n",
      "\n",
      "2019-06-13 04:53:53 (6.07 MB/s) - ‘106.mat’ saved [2928192/2928192]\n",
      "\n",
      "--2019-06-13 04:53:53--  http://csegroups.case.edu/sites/default/files/bearingdatacenter/files/Datafiles/107.mat\n",
      "Resolving csegroups.case.edu (csegroups.case.edu)... 129.22.25.84\n",
      "Connecting to csegroups.case.edu (csegroups.case.edu)|129.22.25.84|:80... connected.\n",
      "HTTP request sent, awaiting response... 200 OK\n",
      "Length: 2931672 (2.8M)\n",
      "Saving to: ‘107.mat’\n",
      "\n",
      "100%[======================================>] 2,931,672   7.01MB/s   in 0.4s   \n",
      "\n",
      "2019-06-13 04:53:53 (7.01 MB/s) - ‘107.mat’ saved [2931672/2931672]\n",
      "\n",
      "--2019-06-13 04:53:53--  http://csegroups.case.edu/sites/default/files/bearingdatacenter/files/Datafiles/108.mat\n",
      "Resolving csegroups.case.edu (csegroups.case.edu)... 129.22.25.84\n",
      "Connecting to csegroups.case.edu (csegroups.case.edu)|129.22.25.84|:80... connected.\n",
      "HTTP request sent, awaiting response... 200 OK\n",
      "Length: 2950416 (2.8M)\n",
      "Saving to: ‘108.mat’\n",
      "\n",
      "100%[======================================>] 2,950,416   7.10MB/s   in 0.4s   \n",
      "\n",
      "2019-06-13 04:53:54 (7.10 MB/s) - ‘108.mat’ saved [2950416/2950416]\n",
      "\n"
     ]
    }
   ],
   "source": [
    "!wget http://csegroups.case.edu/sites/default/files/bearingdatacenter/files/Datafiles/105.mat\n",
    "!wget http://csegroups.case.edu/sites/default/files/bearingdatacenter/files/Datafiles/106.mat\n",
    "!wget http://csegroups.case.edu/sites/default/files/bearingdatacenter/files/Datafiles/107.mat\n",
    "!wget http://csegroups.case.edu/sites/default/files/bearingdatacenter/files/Datafiles/108.mat"
   ]
  },
  {
   "cell_type": "code",
   "execution_count": 50,
   "metadata": {},
   "outputs": [
    {
     "name": "stdout",
     "output_type": "stream",
     "text": [
      "mkdir: cannot create directory ‘cwr_faulty’: File exists\r\n"
     ]
    }
   ],
   "source": [
    "!mkdir cwr_faulty\n",
    "!mv *.mat cwr_faulty/"
   ]
  },
  {
   "cell_type": "code",
   "execution_count": 14,
   "metadata": {},
   "outputs": [
    {
     "name": "stdout",
     "output_type": "stream",
     "text": [
      "105.mat  106.mat  107.mat  108.mat\r\n"
     ]
    }
   ],
   "source": [
    "!ls cwr_faulty/"
   ]
  },
  {
   "cell_type": "code",
   "execution_count": 15,
   "metadata": {
    "collapsed": true
   },
   "outputs": [],
   "source": [
    "result_faulty = read_folder('./cwr_faulty/')"
   ]
  },
  {
   "cell_type": "code",
   "execution_count": 16,
   "metadata": {
    "collapsed": true
   },
   "outputs": [],
   "source": [
    "pdf_faulty = pd.DataFrame(result_faulty)"
   ]
  },
  {
   "cell_type": "code",
   "execution_count": 17,
   "metadata": {},
   "outputs": [
    {
     "data": {
      "text/html": [
       "<div>\n",
       "<style scoped>\n",
       "    .dataframe tbody tr th:only-of-type {\n",
       "        vertical-align: middle;\n",
       "    }\n",
       "\n",
       "    .dataframe tbody tr th {\n",
       "        vertical-align: top;\n",
       "    }\n",
       "\n",
       "    .dataframe thead th {\n",
       "        text-align: right;\n",
       "    }\n",
       "</style>\n",
       "<table border=\"1\" class=\"dataframe\">\n",
       "  <thead>\n",
       "    <tr style=\"text-align: right;\">\n",
       "      <th></th>\n",
       "      <th>0</th>\n",
       "      <th>1</th>\n",
       "      <th>2</th>\n",
       "    </tr>\n",
       "  </thead>\n",
       "  <tbody>\n",
       "    <tr>\n",
       "      <th>0</th>\n",
       "      <td>108</td>\n",
       "      <td>0.2226985628742515</td>\n",
       "      <td>-0.09738545454545454</td>\n",
       "    </tr>\n",
       "    <tr>\n",
       "      <th>1</th>\n",
       "      <td>108</td>\n",
       "      <td>0.09323776447105789</td>\n",
       "      <td>-0.1808</td>\n",
       "    </tr>\n",
       "    <tr>\n",
       "      <th>2</th>\n",
       "      <td>108</td>\n",
       "      <td>-0.1465164870259481</td>\n",
       "      <td>-0.2336018181818182</td>\n",
       "    </tr>\n",
       "    <tr>\n",
       "      <th>3</th>\n",
       "      <td>108</td>\n",
       "      <td>0.1772167265469062</td>\n",
       "      <td>-0.10211090909090909</td>\n",
       "    </tr>\n",
       "    <tr>\n",
       "      <th>4</th>\n",
       "      <td>108</td>\n",
       "      <td>0.248525748502994</td>\n",
       "      <td>-0.03328363636363636</td>\n",
       "    </tr>\n",
       "  </tbody>\n",
       "</table>\n",
       "</div>"
      ],
      "text/plain": [
       "     0                    1                     2\n",
       "0  108   0.2226985628742515  -0.09738545454545454\n",
       "1  108  0.09323776447105789               -0.1808\n",
       "2  108  -0.1465164870259481   -0.2336018181818182\n",
       "3  108   0.1772167265469062  -0.10211090909090909\n",
       "4  108    0.248525748502994  -0.03328363636363636"
      ]
     },
     "execution_count": 17,
     "metadata": {},
     "output_type": "execute_result"
    }
   ],
   "source": [
    "pdf_faulty.head()"
   ]
  },
  {
   "cell_type": "code",
   "execution_count": 18,
   "metadata": {
    "collapsed": true
   },
   "outputs": [],
   "source": [
    "pdf_faulty.to_csv('result_faulty_pandas.csv', header=False, index=True)"
   ]
  },
  {
   "cell_type": "code",
   "execution_count": 19,
   "metadata": {},
   "outputs": [
    {
     "name": "stdout",
     "output_type": "stream",
     "text": [
      "0,108,0.2226985628742515,-0.09738545454545454\r\n",
      "1,108,0.09323776447105789,-0.1808\r\n",
      "2,108,-0.1465164870259481,-0.2336018181818182\r\n",
      "3,108,0.1772167265469062,-0.10211090909090909\r\n",
      "4,108,0.248525748502994,-0.03328363636363636\r\n",
      "5,108,-0.07114658682634731,-0.1296418181818182\r\n",
      "6,108,-0.12133904191616766,-0.00862909090909091\r\n",
      "7,108,-0.01396942115768463,0.02938\r\n",
      "8,108,0.12020199600798404,-0.06266363636363637\r\n",
      "9,108,0.07130902195608782,0.05732181818181818\r\n"
     ]
    }
   ],
   "source": [
    "!head result_faulty_pandas.csv"
   ]
  },
  {
   "cell_type": "code",
   "execution_count": 20,
   "metadata": {
    "collapsed": true
   },
   "outputs": [],
   "source": [
    "df_healthy=spark.read.csv('result_healthy_pandas.csv')"
   ]
  },
  {
   "cell_type": "code",
   "execution_count": 21,
   "metadata": {
    "collapsed": true
   },
   "outputs": [],
   "source": [
    "df_healthy.createOrReplaceTempView('df_healthy')"
   ]
  },
  {
   "cell_type": "code",
   "execution_count": 22,
   "metadata": {},
   "outputs": [
    {
     "name": "stdout",
     "output_type": "stream",
     "text": [
      "+---+---+--------------------+--------------------+\n",
      "|_c0|_c1|                 _c2|                 _c3|\n",
      "+---+---+--------------------+--------------------+\n",
      "|  0| 98|0.023216363636363632|            0.046104|\n",
      "|  1| 98| 0.08115454545454545|-0.03713353846153846|\n",
      "|  2| 98| 0.09533090909090909|-0.08949599999999999|\n",
      "|  3| 98| 0.09101636363636363|-0.08490646153846154|\n",
      "|  4| 98|0.038625454545454546|-0.03859384615384615|\n",
      "|  5| 98|0.027120000000000002| 0.02545107692307692|\n",
      "|  6| 98| 0.05013090909090909|0.040679999999999994|\n",
      "|  7| 98|0.045816363636363634|0.042557538461538466|\n",
      "|  8| 98|0.014176363636363636|0.038176615384615385|\n",
      "|  9| 98|-0.03780363636363636| 0.04401784615384615|\n",
      "| 10| 98|-0.08526363636363636| 0.04214030769230769|\n",
      "| 11| 98|-0.06985454545454545|-0.01147384615384...|\n",
      "| 12| 98|0.003081818181818...|-0.07677046153846154|\n",
      "| 13| 98| 0.03985818181818182|-0.14707384615384617|\n",
      "| 14| 98| 0.04951454545454545|-0.15291507692307693|\n",
      "| 15| 98|0.020956363636363638|-0.09554584615384615|\n",
      "| 16| 98|-0.00862909090909091|-0.03087507692307...|\n",
      "| 17| 98|0.020545454545454544| 0.02899753846153846|\n",
      "| 18| 98|0.038419999999999996| 0.03129230769230769|\n",
      "| 19| 98| 0.02527090909090909| 0.01856676923076923|\n",
      "+---+---+--------------------+--------------------+\n",
      "only showing top 20 rows\n",
      "\n"
     ]
    }
   ],
   "source": [
    "df_healthy.show()"
   ]
  },
  {
   "cell_type": "code",
   "execution_count": 23,
   "metadata": {
    "collapsed": true
   },
   "outputs": [],
   "source": [
    "df_faulty=spark.read.csv('result_faulty_pandas.csv')"
   ]
  },
  {
   "cell_type": "code",
   "execution_count": 24,
   "metadata": {},
   "outputs": [
    {
     "name": "stdout",
     "output_type": "stream",
     "text": [
      "+---+---+--------------------+--------------------+\n",
      "|_c0|_c1|                 _c2|                 _c3|\n",
      "+---+---+--------------------+--------------------+\n",
      "|  0|108|  0.2226985628742515|-0.09738545454545454|\n",
      "|  1|108| 0.09323776447105789|             -0.1808|\n",
      "|  2|108| -0.1465164870259481| -0.2336018181818182|\n",
      "|  3|108|  0.1772167265469062|-0.10211090909090909|\n",
      "|  4|108|   0.248525748502994|-0.03328363636363636|\n",
      "|  5|108|-0.07114658682634731| -0.1296418181818182|\n",
      "|  6|108|-0.12133904191616766|-0.00862909090909091|\n",
      "|  7|108|-0.01396942115768463|             0.02938|\n",
      "|  8|108| 0.12020199600798404|-0.06266363636363637|\n",
      "|  9|108| 0.07130902195608782| 0.05732181818181818|\n",
      "| 10|108| 0.11467920159680639| 0.08834545454545455|\n",
      "| 11|108| 0.10347117764471057|0.027120000000000002|\n",
      "| 12|108|-0.10233413173652695| 0.08855090909090908|\n",
      "| 13|108|-0.06546135728542915|0.008218181818181819|\n",
      "| 14|108|-0.06854762475049901| 0.11649272727272726|\n",
      "| 15|108| -0.1020092614770459|             0.42488|\n",
      "| 16|108|-0.12052686626746507|  0.2933890909090909|\n",
      "| 17|108|-0.12881105788423153| 0.10560363636363636|\n",
      "| 18|108| 0.12783644710578843| 0.18470363636363635|\n",
      "| 19|108| 0.45091992015968063| 0.05773272727272727|\n",
      "+---+---+--------------------+--------------------+\n",
      "only showing top 20 rows\n",
      "\n"
     ]
    }
   ],
   "source": [
    "df_faulty.show()"
   ]
  },
  {
   "cell_type": "code",
   "execution_count": 29,
   "metadata": {
    "collapsed": true
   },
   "outputs": [],
   "source": [
    "\n",
    "import ibmos2spark\n",
    "\n",
    "# @hidden_cell\n",
    "credentials = {\n",
    "    'endpoint': 'https://s3-api.us-geo.objectstorage.service.networklayer.com',\n",
    "    'api_key': '',\n",
    "    'service_id': '',\n",
    "    'iam_service_endpoint': 'https://iam.bluemix.net/oidc/token'}\n",
    "\n",
    "configuration_name = ''\n",
    "cos = ibmos2spark.CloudObjectStorage(sc, credentials, configuration_name, 'bluemix_cos')\n",
    "\n",
    "from pyspark.sql import SparkSession\n",
    "spark = SparkSession.builder.getOrCreate()\n",
    "# Please read the documentation of PySpark to learn more about the possibilities to load data files.\n",
    "# PySpark documentation: https://spark.apache.org/docs/2.0.1/api/python/pyspark.sql.html#pyspark.sql.SparkSession\n",
    "# The SparkSession object is already initialized for you.\n",
    "# The following variable contains the path to your file on your IBM Cloud Object Storage."
   ]
  },
  {
   "cell_type": "code",
   "execution_count": 30,
   "metadata": {
    "collapsed": true
   },
   "outputs": [],
   "source": [
    "df_healthy.write.parquet(cos.url('ewr_healthy.parquet', ''))"
   ]
  },
  {
   "cell_type": "code",
   "execution_count": 31,
   "metadata": {
    "collapsed": true
   },
   "outputs": [],
   "source": [
    "df_faulty.write.parquet(cos.url('ewr_faulty.parquet', ''))"
   ]
  },
  {
   "cell_type": "code",
   "execution_count": 34,
   "metadata": {},
   "outputs": [
    {
     "data": {
      "text/plain": [
       "1213484"
      ]
     },
     "execution_count": 34,
     "metadata": {},
     "output_type": "execute_result"
    }
   ],
   "source": [
    "df_healthy.count()"
   ]
  },
  {
   "cell_type": "code",
   "execution_count": 35,
   "metadata": {},
   "outputs": [
    {
     "data": {
      "text/plain": [
       "488309"
      ]
     },
     "execution_count": 35,
     "metadata": {},
     "output_type": "execute_result"
    }
   ],
   "source": [
    "df_faulty.count()"
   ]
  }
 ],
 "metadata": {
  "kernelspec": {
   "display_name": "Python 3",
   "language": "python",
   "name": "python3"
  },
  "language_info": {
   "codemirror_mode": {
    "name": "ipython",
    "version": 3
   },
   "file_extension": ".py",
   "mimetype": "text/x-python",
   "name": "python",
   "nbconvert_exporter": "python",
   "pygments_lexer": "ipython3",
   "version": "3.6.2"
  }
 },
 "nbformat": 4,
 "nbformat_minor": 1
}
